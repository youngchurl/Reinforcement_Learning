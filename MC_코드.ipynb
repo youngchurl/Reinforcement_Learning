{
  "nbformat": 4,
  "nbformat_minor": 0,
  "metadata": {
    "colab": {
      "name": "MC 코드.ipynb",
      "provenance": [],
      "collapsed_sections": []
    },
    "kernelspec": {
      "name": "python3",
      "display_name": "Python 3"
    },
    "language_info": {
      "name": "python"
    }
  },
  "cells": [
    {
      "cell_type": "code",
      "execution_count": 30,
      "metadata": {
        "id": "WBMAWyeMPO7G"
      },
      "outputs": [],
      "source": [
        "import random\n",
        "import numpy as np"
      ]
    },
    {
      "cell_type": "code",
      "source": [
        "goal = {'A':(5,0),\n",
        "        'B':(4,0),\n",
        "        'C':(3,0),\n",
        "        'D':(2,0),\n",
        "        'E':(0,0),\n",
        "        'F':(0,1),\n",
        "        'G':(0,2),\n",
        "        'I':(0,4),\n",
        "        'H':(0,3),\n",
        "        'J':(0,5),\n",
        "        'K':(0,6),\n",
        "        'L':(0,7),\n",
        "        'M':(0,8),\n",
        "        'N':(2,8),\n",
        "        'O':(3,8),\n",
        "        'P':(4,8),\n",
        "        'Q':(5,8)\n",
        "        }"
      ],
      "metadata": {
        "id": "_GI2wIkPVxWR"
      },
      "execution_count": 31,
      "outputs": []
    },
    {
      "cell_type": "code",
      "source": [
        "class GridWorld():\n",
        "    def __init__(self,start):\n",
        "        self.x=start[0]\n",
        "        self.y=start[1]\n",
        "    \n",
        "    \n",
        "    def step(self, a, goal):\n",
        "        # 0번 액션 :왼쪽 1번 : 위, 2번: 오른쪽, 3번 아래\n",
        "        if a==0:\n",
        "            self.move_left()\n",
        "        elif a==1:\n",
        "            self.move_up()\n",
        "        elif a==2:\n",
        "            self.move_right()\n",
        "        elif a==3:\n",
        "            self.move_down()\n",
        "        reward = -1\n",
        "        done = self.is_done(goal)\n",
        "        return (self.x, self.y), reward, done\n",
        "\n",
        "    def move_left(self):\n",
        "        if self.y==0:\n",
        "            pass\n",
        "        elif self.y == 3 and self.x in [3,4,5,6]:\n",
        "            pass\n",
        "        elif self.y == 5 and self.x in [3,4,5,6]:\n",
        "            pass\n",
        "        elif self.y == 7 and self.x in [3,4,5,6]:\n",
        "            pass\n",
        "        elif self.x == 9:\n",
        "            pass\n",
        "        else:\n",
        "            self.y -=1\n",
        "\n",
        "    def move_right(self):\n",
        "        if self.y == 1 and self.x in [3,4,5,6]:\n",
        "            pass\n",
        "        elif self.y == 3 and self.x in [3,4,5,6]:\n",
        "            pass\n",
        "        elif self.y == 5 and self.x in [3,4,5,6]:\n",
        "            pass\n",
        "        elif self.y == 8:\n",
        "            pass\n",
        "        elif self.x == 9:\n",
        "            pass\n",
        "        else:\n",
        "            self.y +=1\n",
        "\n",
        "    def move_up(self):\n",
        "        if self.x==0:\n",
        "            pass\n",
        "        elif self.x == 7 and self.y == [2,4,6]:\n",
        "            pass\n",
        "        else:\n",
        "            self.x -=1\n",
        "\n",
        "    def move_down(self):\n",
        "        if self.x==9:\n",
        "            pass\n",
        "        elif self.x == 2 and self.y == [2,4,6]:\n",
        "            pass\n",
        "        else:\n",
        "            self.x +=1\n",
        "\n",
        "    def is_done(self,goal):\n",
        "        if self.x==goal[0] and self.y==goal[1]:\n",
        "            return True\n",
        "        else:\n",
        "            return False\n",
        "\n",
        "    def reset(self,start):\n",
        "        self.x=start[0]\n",
        "        self.y=start[1]\n",
        "        return (self.x, self.y)\n",
        "        \n",
        "            "
      ],
      "metadata": {
        "id": "3AqUczmfPpIY"
      },
      "execution_count": 32,
      "outputs": []
    },
    {
      "cell_type": "code",
      "source": [
        "class QAgent():\n",
        "    def __init__(self):\n",
        "        self.q_table=np.zeros((10, 9, 4)) # q밸류 저장하는 변수, 모두 0으로 초기화\n",
        "        self.eps = 0.9\n",
        "        self.alpha = 0.01\n",
        "    \n",
        "    def select_action(self, s):\n",
        "        # eps-greedy로 액션을 선택해준다.\n",
        "        x,y = s\n",
        "        coin = random.random()\n",
        "        if coin < self.eps:\n",
        "            action = random.randint(0,3)\n",
        "        else:\n",
        "            action_val = self.q_table[x,y,:]\n",
        "            action = np.argmax(action_val)\n",
        "        return action\n",
        "\n",
        "    def update_table(self, transition):\n",
        "        s, a, r, s_prime = transition\n",
        "        x,y=s\n",
        "        next_x, next_y = s_prime\n",
        "        a_prime = self.select_action(s_prime)\n",
        "\n",
        "        self.q_table[x,y,a] = self.q_table[x,y,a] + 0.1*(r + self.q_table[next_x, next_y, a_prime] - self.q_table[x,y,a])\n",
        "    \n",
        "    def anneal_eps(self):\n",
        "        self.eps -= 0.03\n",
        "        self.eps = max(self.eps, 0.1)\n",
        "\n",
        "    def show_table(self):\n",
        "        # 학습이 각 위치에서 어느 액션의 q 값이 가장 높았는지 보여주는 함수\n",
        "        q_lst = self.q_table.tolist()\n",
        "        data = np.zeros((10,9))\n",
        "        for row_idx in range(len(q_lst)):\n",
        "            row = q_lst[row_idx]\n",
        "            for col_idx in range(len(row)):\n",
        "                col = row[col_idx]\n",
        "                action = np.argmax(col)\n",
        "                data[row_idx, col_idx] = action\n",
        "        print(data)"
      ],
      "metadata": {
        "id": "fGtdnKeZRqDW"
      },
      "execution_count": 35,
      "outputs": []
    },
    {
      "cell_type": "code",
      "source": [
        "start_input = list(map(int,input('시작점(x,y)를 입력해주세요! : ').split()))\n",
        "goal_input = input('목표지점을 입력해주세요! : ')\n",
        "env = GridWorld(start_input)\n",
        "agent = QAgent()\n",
        "env.is_done(goal[goal_input])\n",
        "\n",
        "\n",
        "for n_epi in range(1000):\n",
        "    done = False\n",
        "\n",
        "    s = env.reset(start_input)\n",
        "    while not done:\n",
        "        a = agent.select_action(s)\n",
        "        s_prime, r, done = env.step(a,goal[goal_input])\n",
        "        agent.update_table((s,a,r,s_prime))\n",
        "        s = s_prime\n",
        "    agent.anneal_eps()\n",
        "\n",
        "agent.show_table()"
      ],
      "metadata": {
        "id": "9b-zYwbPU_TA",
        "colab": {
          "base_uri": "https://localhost:8080/"
        },
        "outputId": "43c62c10-43cc-4ec9-b44d-2fddd5bee835"
      },
      "execution_count": 36,
      "outputs": [
        {
          "output_type": "stream",
          "name": "stdout",
          "text": [
            "시작점(x,y)를 입력해주세요! : 9 4\n",
            "목표지점을 입력해주세요! : I\n",
            "[[1. 2. 2. 2. 0. 0. 0. 0. 2.]\n",
            " [2. 2. 2. 1. 1. 0. 0. 1. 1.]\n",
            " [2. 1. 2. 1. 1. 1. 1. 2. 0.]\n",
            " [0. 0. 3. 1. 1. 1. 2. 1. 0.]\n",
            " [1. 1. 3. 1. 1. 1. 3. 0. 3.]\n",
            " [2. 0. 1. 1. 1. 1. 3. 3. 2.]\n",
            " [0. 2. 1. 1. 1. 1. 2. 3. 3.]\n",
            " [3. 3. 1. 0. 1. 0. 1. 1. 2.]\n",
            " [0. 0. 3. 0. 1. 2. 2. 3. 2.]\n",
            " [3. 3. 3. 2. 1. 2. 0. 2. 0.]]\n"
          ]
        }
      ]
    },
    {
      "cell_type": "code",
      "source": [
        "res = [['1. 2. 2. 2. 0. 0. 0. 0. 2'],\n",
        " ['2. 2. 2. 1. 1. 0. 0. 1. 1'],\n",
        " ['2. 1. 2. 1. 1. 1. 1. 2. 0'],\n",
        " ['0. 0. 3. 1. 1. 1. 2. 1. 0'],\n",
        " ['1. 1. 3. 1. 1. 1. 3. 0. 3'],\n",
        " ['2. 0. 1. 1. 1. 1. 3. 3. 2'],\n",
        " ['0. 2. 1. 1. 1. 1. 2. 3. 3'],\n",
        " ['3. 3. 1. 0. 1. 0. 1. 1. 2'],\n",
        " ['0. 0. 3. 0. 1. 2. 2. 3. 2'],\n",
        " ['3. 3. 3. 2. 1. 2. 0. 2. 0']]"
      ],
      "metadata": {
        "id": "1Fxfy1EeNM47"
      },
      "execution_count": 86,
      "outputs": []
    },
    {
      "cell_type": "code",
      "source": [
        "res2 = []"
      ],
      "metadata": {
        "id": "WaEqZdJuQUTW"
      },
      "execution_count": 87,
      "outputs": []
    },
    {
      "cell_type": "code",
      "source": [
        "for i in res:\n",
        "    res2.append(i[0].split('. '))"
      ],
      "metadata": {
        "id": "Wd9ukmFjOo5n"
      },
      "execution_count": 88,
      "outputs": []
    },
    {
      "cell_type": "code",
      "source": [
        "res2"
      ],
      "metadata": {
        "colab": {
          "base_uri": "https://localhost:8080/"
        },
        "id": "2b3WpQ0ES040",
        "outputId": "2c211748-4d46-4ea1-81d0-1acd8a483aff"
      },
      "execution_count": 89,
      "outputs": [
        {
          "output_type": "execute_result",
          "data": {
            "text/plain": [
              "[['1', '2', '2', '2', '0', '0', '0', '0', '2'],\n",
              " ['2', '2', '2', '1', '1', '0', '0', '1', '1'],\n",
              " ['2', '1', '2', '1', '1', '1', '1', '2', '0'],\n",
              " ['0', '0', '3', '1', '1', '1', '2', '1', '0'],\n",
              " ['1', '1', '3', '1', '1', '1', '3', '0', '3'],\n",
              " ['2', '0', '1', '1', '1', '1', '3', '3', '2'],\n",
              " ['0', '2', '1', '1', '1', '1', '2', '3', '3'],\n",
              " ['3', '3', '1', '0', '1', '0', '1', '1', '2'],\n",
              " ['0', '0', '3', '0', '1', '2', '2', '3', '2'],\n",
              " ['3', '3', '3', '2', '1', '2', '0', '2', '0']]"
            ]
          },
          "metadata": {},
          "execution_count": 89
        }
      ]
    },
    {
      "cell_type": "code",
      "source": [
        "view = res2"
      ],
      "metadata": {
        "id": "fk7xerO4PAUs"
      },
      "execution_count": 90,
      "outputs": []
    },
    {
      "cell_type": "code",
      "source": [
        "conv = {'0':'←',\n",
        "        '1':'↑',\n",
        "        '2':'→',\n",
        "        '3':'↓'}"
      ],
      "metadata": {
        "id": "irMqS5sol2NM"
      },
      "execution_count": 91,
      "outputs": []
    },
    {
      "cell_type": "code",
      "source": [
        "for i in range(10):\n",
        "    for j in range(9):\n",
        "        view[i][j] = conv[res2[i][j]]"
      ],
      "metadata": {
        "id": "UIBWY3mUNShn"
      },
      "execution_count": 92,
      "outputs": []
    },
    {
      "cell_type": "code",
      "source": [
        "view"
      ],
      "metadata": {
        "colab": {
          "base_uri": "https://localhost:8080/"
        },
        "id": "S6CZ0HLiR8QP",
        "outputId": "ebccb5b5-ca2b-4fee-9db4-494633c8b297"
      },
      "execution_count": 93,
      "outputs": [
        {
          "output_type": "execute_result",
          "data": {
            "text/plain": [
              "[['↑', '→', '→', '→', '←', '←', '←', '←', '→'],\n",
              " ['→', '→', '→', '↑', '↑', '←', '←', '↑', '↑'],\n",
              " ['→', '↑', '→', '↑', '↑', '↑', '↑', '→', '←'],\n",
              " ['←', '←', '↓', '↑', '↑', '↑', '→', '↑', '←'],\n",
              " ['↑', '↑', '↓', '↑', '↑', '↑', '↓', '←', '↓'],\n",
              " ['→', '←', '↑', '↑', '↑', '↑', '↓', '↓', '→'],\n",
              " ['←', '→', '↑', '↑', '↑', '↑', '→', '↓', '↓'],\n",
              " ['↓', '↓', '↑', '←', '↑', '←', '↑', '↑', '→'],\n",
              " ['←', '←', '↓', '←', '↑', '→', '→', '↓', '→'],\n",
              " ['↓', '↓', '↓', '→', '↑', '→', '←', '→', '←']]"
            ]
          },
          "metadata": {},
          "execution_count": 93
        }
      ]
    },
    {
      "cell_type": "code",
      "source": [
        ""
      ],
      "metadata": {
        "id": "Cun3FEumS7NV"
      },
      "execution_count": null,
      "outputs": []
    }
  ]
}